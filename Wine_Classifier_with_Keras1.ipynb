{
  "nbformat": 4,
  "nbformat_minor": 0,
  "metadata": {
    "colab": {
      "name": "WineKeras.ipynb",
      "provenance": []
    },
    "kernelspec": {
      "name": "python3",
      "display_name": "Python 3"
    }
  },
  "cells": [
    {
      "cell_type": "code",
      "metadata": {
        "id": "aJfHWxycssSg",
        "colab_type": "code",
        "colab": {
          "base_uri": "https://localhost:8080/",
          "height": 34
        },
        "outputId": "a584f5cc-4738-4d63-faf1-120d9a44f17c"
      },
      "source": [
        "from google.colab import drive\n",
        "drive.mount('/gdrive')"
      ],
      "execution_count": 138,
      "outputs": [
        {
          "output_type": "stream",
          "text": [
            "Drive already mounted at /gdrive; to attempt to forcibly remount, call drive.mount(\"/gdrive\", force_remount=True).\n"
          ],
          "name": "stdout"
        }
      ]
    },
    {
      "cell_type": "code",
      "metadata": {
        "id": "lG5Ngij6It_R",
        "colab_type": "code",
        "colab": {
          "base_uri": "https://localhost:8080/",
          "height": 34
        },
        "outputId": "7892b6a0-f0a1-40d2-80f2-9cbf3900cd0d"
      },
      "source": [
        "import keras\n",
        "keras.__version__"
      ],
      "execution_count": 139,
      "outputs": [
        {
          "output_type": "execute_result",
          "data": {
            "text/plain": [
              "'2.3.1'"
            ]
          },
          "metadata": {
            "tags": []
          },
          "execution_count": 139
        }
      ]
    },
    {
      "cell_type": "code",
      "metadata": {
        "id": "OGDDtED7JZz2",
        "colab_type": "code",
        "colab": {}
      },
      "source": [
        "from keras import Sequential\n",
        "from keras.layers import Dense, Activation"
      ],
      "execution_count": 0,
      "outputs": []
    },
    {
      "cell_type": "code",
      "metadata": {
        "id": "-I6TNDA9Jh_B",
        "colab_type": "code",
        "colab": {}
      },
      "source": [
        "import pandas as pd\n",
        "pd.__version__\n",
        "pd.options.display.max_rows=15"
      ],
      "execution_count": 0,
      "outputs": []
    },
    {
      "cell_type": "code",
      "metadata": {
        "id": "kIBmOFsoJ-wk",
        "colab_type": "code",
        "colab": {
          "base_uri": "https://localhost:8080/",
          "height": 34
        },
        "outputId": "a8527e3b-e11c-44aa-c564-2a3e286f4998"
      },
      "source": [
        "import numpy as np\n",
        "np.__version__"
      ],
      "execution_count": 142,
      "outputs": [
        {
          "output_type": "execute_result",
          "data": {
            "text/plain": [
              "'1.18.4'"
            ]
          },
          "metadata": {
            "tags": []
          },
          "execution_count": 142
        }
      ]
    },
    {
      "cell_type": "code",
      "metadata": {
        "id": "6Ig3wvG5KB6g",
        "colab_type": "code",
        "colab": {
          "base_uri": "https://localhost:8080/",
          "height": 34
        },
        "outputId": "64376d14-19b7-452e-d313-edd4fa16b803"
      },
      "source": [
        "ls '/gdrive'"
      ],
      "execution_count": 143,
      "outputs": [
        {
          "output_type": "stream",
          "text": [
            "\u001b[0m\u001b[01;34m'My Drive'\u001b[0m/\n"
          ],
          "name": "stdout"
        }
      ]
    },
    {
      "cell_type": "code",
      "metadata": {
        "id": "8NPGeSxxMDit",
        "colab_type": "code",
        "colab": {
          "base_uri": "https://localhost:8080/",
          "height": 221
        },
        "outputId": "c178ff2f-515e-453f-933c-6c097256b8fa"
      },
      "source": [
        "import pandas as pd\n",
        "white_wine = pd.read_csv('/gdrive/My Drive/winequality-white.csv', header = 'infer')\n",
        "red_wine = pd.read_csv('/gdrive/My Drive/winequality-red.csv', header = 'infer')\n",
        "\n",
        "white_wine.head()\n",
        "red_wine.head()"
      ],
      "execution_count": 144,
      "outputs": [
        {
          "output_type": "execute_result",
          "data": {
            "text/html": [
              "<div>\n",
              "<style scoped>\n",
              "    .dataframe tbody tr th:only-of-type {\n",
              "        vertical-align: middle;\n",
              "    }\n",
              "\n",
              "    .dataframe tbody tr th {\n",
              "        vertical-align: top;\n",
              "    }\n",
              "\n",
              "    .dataframe thead th {\n",
              "        text-align: right;\n",
              "    }\n",
              "</style>\n",
              "<table border=\"1\" class=\"dataframe\">\n",
              "  <thead>\n",
              "    <tr style=\"text-align: right;\">\n",
              "      <th></th>\n",
              "      <th>fixed acidity</th>\n",
              "      <th>volatile acidity</th>\n",
              "      <th>citric acid</th>\n",
              "      <th>residual sugar</th>\n",
              "      <th>chlorides</th>\n",
              "      <th>free sulfur dioxide</th>\n",
              "      <th>total sulfur dioxide</th>\n",
              "      <th>density</th>\n",
              "      <th>pH</th>\n",
              "      <th>sulphates</th>\n",
              "      <th>alcohol</th>\n",
              "      <th>quality</th>\n",
              "    </tr>\n",
              "  </thead>\n",
              "  <tbody>\n",
              "    <tr>\n",
              "      <th>0</th>\n",
              "      <td>7.4</td>\n",
              "      <td>0.70</td>\n",
              "      <td>0.00</td>\n",
              "      <td>1.9</td>\n",
              "      <td>0.076</td>\n",
              "      <td>11</td>\n",
              "      <td>34</td>\n",
              "      <td>0.9978</td>\n",
              "      <td>3.51</td>\n",
              "      <td>0.56</td>\n",
              "      <td>9.4</td>\n",
              "      <td>5</td>\n",
              "    </tr>\n",
              "    <tr>\n",
              "      <th>1</th>\n",
              "      <td>7.8</td>\n",
              "      <td>0.88</td>\n",
              "      <td>0.00</td>\n",
              "      <td>2.6</td>\n",
              "      <td>0.098</td>\n",
              "      <td>25</td>\n",
              "      <td>67</td>\n",
              "      <td>0.9968</td>\n",
              "      <td>3.20</td>\n",
              "      <td>0.68</td>\n",
              "      <td>9.8</td>\n",
              "      <td>5</td>\n",
              "    </tr>\n",
              "    <tr>\n",
              "      <th>2</th>\n",
              "      <td>7.8</td>\n",
              "      <td>0.76</td>\n",
              "      <td>0.04</td>\n",
              "      <td>2.3</td>\n",
              "      <td>0.092</td>\n",
              "      <td>15</td>\n",
              "      <td>54</td>\n",
              "      <td>0.9970</td>\n",
              "      <td>3.26</td>\n",
              "      <td>0.65</td>\n",
              "      <td>9.8</td>\n",
              "      <td>5</td>\n",
              "    </tr>\n",
              "    <tr>\n",
              "      <th>3</th>\n",
              "      <td>11.2</td>\n",
              "      <td>0.28</td>\n",
              "      <td>0.56</td>\n",
              "      <td>1.9</td>\n",
              "      <td>0.075</td>\n",
              "      <td>17</td>\n",
              "      <td>60</td>\n",
              "      <td>0.9980</td>\n",
              "      <td>3.16</td>\n",
              "      <td>0.58</td>\n",
              "      <td>9.8</td>\n",
              "      <td>6</td>\n",
              "    </tr>\n",
              "    <tr>\n",
              "      <th>4</th>\n",
              "      <td>7.4</td>\n",
              "      <td>0.70</td>\n",
              "      <td>0.00</td>\n",
              "      <td>1.9</td>\n",
              "      <td>0.076</td>\n",
              "      <td>11</td>\n",
              "      <td>34</td>\n",
              "      <td>0.9978</td>\n",
              "      <td>3.51</td>\n",
              "      <td>0.56</td>\n",
              "      <td>9.4</td>\n",
              "      <td>5</td>\n",
              "    </tr>\n",
              "  </tbody>\n",
              "</table>\n",
              "</div>"
            ],
            "text/plain": [
              "   fixed acidity  volatile acidity  citric acid  ...  sulphates  alcohol  quality\n",
              "0            7.4              0.70         0.00  ...       0.56      9.4        5\n",
              "1            7.8              0.88         0.00  ...       0.68      9.8        5\n",
              "2            7.8              0.76         0.04  ...       0.65      9.8        5\n",
              "3           11.2              0.28         0.56  ...       0.58      9.8        6\n",
              "4            7.4              0.70         0.00  ...       0.56      9.4        5\n",
              "\n",
              "[5 rows x 12 columns]"
            ]
          },
          "metadata": {
            "tags": []
          },
          "execution_count": 144
        }
      ]
    },
    {
      "cell_type": "code",
      "metadata": {
        "id": "wvFoemBcN4xt",
        "colab_type": "code",
        "colab": {
          "base_uri": "https://localhost:8080/",
          "height": 436
        },
        "outputId": "d1998fe9-980d-4ead-c532-ca130730eade"
      },
      "source": [
        "display(white_wine)"
      ],
      "execution_count": 145,
      "outputs": [
        {
          "output_type": "display_data",
          "data": {
            "text/html": [
              "<div>\n",
              "<style scoped>\n",
              "    .dataframe tbody tr th:only-of-type {\n",
              "        vertical-align: middle;\n",
              "    }\n",
              "\n",
              "    .dataframe tbody tr th {\n",
              "        vertical-align: top;\n",
              "    }\n",
              "\n",
              "    .dataframe thead th {\n",
              "        text-align: right;\n",
              "    }\n",
              "</style>\n",
              "<table border=\"1\" class=\"dataframe\">\n",
              "  <thead>\n",
              "    <tr style=\"text-align: right;\">\n",
              "      <th></th>\n",
              "      <th>fixed acidity</th>\n",
              "      <th>volatile acidity</th>\n",
              "      <th>citric acid</th>\n",
              "      <th>residual sugar</th>\n",
              "      <th>chlorides</th>\n",
              "      <th>free sulfur dioxide</th>\n",
              "      <th>total sulfur dioxide</th>\n",
              "      <th>density</th>\n",
              "      <th>pH</th>\n",
              "      <th>sulphates</th>\n",
              "      <th>alcohol</th>\n",
              "      <th>quality</th>\n",
              "    </tr>\n",
              "  </thead>\n",
              "  <tbody>\n",
              "    <tr>\n",
              "      <th>0</th>\n",
              "      <td>7.0</td>\n",
              "      <td>0.27</td>\n",
              "      <td>0.36</td>\n",
              "      <td>20.7</td>\n",
              "      <td>0.045</td>\n",
              "      <td>45.0</td>\n",
              "      <td>170.0</td>\n",
              "      <td>1.00100</td>\n",
              "      <td>3.00</td>\n",
              "      <td>0.45</td>\n",
              "      <td>8.8</td>\n",
              "      <td>6</td>\n",
              "    </tr>\n",
              "    <tr>\n",
              "      <th>1</th>\n",
              "      <td>6.3</td>\n",
              "      <td>0.30</td>\n",
              "      <td>0.34</td>\n",
              "      <td>1.6</td>\n",
              "      <td>0.049</td>\n",
              "      <td>14.0</td>\n",
              "      <td>132.0</td>\n",
              "      <td>0.99400</td>\n",
              "      <td>3.30</td>\n",
              "      <td>0.49</td>\n",
              "      <td>9.5</td>\n",
              "      <td>6</td>\n",
              "    </tr>\n",
              "    <tr>\n",
              "      <th>2</th>\n",
              "      <td>8.1</td>\n",
              "      <td>0.28</td>\n",
              "      <td>0.40</td>\n",
              "      <td>6.9</td>\n",
              "      <td>0.050</td>\n",
              "      <td>30.0</td>\n",
              "      <td>97.0</td>\n",
              "      <td>0.99510</td>\n",
              "      <td>3.26</td>\n",
              "      <td>0.44</td>\n",
              "      <td>10.1</td>\n",
              "      <td>6</td>\n",
              "    </tr>\n",
              "    <tr>\n",
              "      <th>3</th>\n",
              "      <td>7.2</td>\n",
              "      <td>0.23</td>\n",
              "      <td>0.32</td>\n",
              "      <td>8.5</td>\n",
              "      <td>0.058</td>\n",
              "      <td>47.0</td>\n",
              "      <td>186.0</td>\n",
              "      <td>0.99560</td>\n",
              "      <td>3.19</td>\n",
              "      <td>0.40</td>\n",
              "      <td>9.9</td>\n",
              "      <td>6</td>\n",
              "    </tr>\n",
              "    <tr>\n",
              "      <th>4</th>\n",
              "      <td>7.2</td>\n",
              "      <td>0.23</td>\n",
              "      <td>0.32</td>\n",
              "      <td>8.5</td>\n",
              "      <td>0.058</td>\n",
              "      <td>47.0</td>\n",
              "      <td>186.0</td>\n",
              "      <td>0.99560</td>\n",
              "      <td>3.19</td>\n",
              "      <td>0.40</td>\n",
              "      <td>9.9</td>\n",
              "      <td>6</td>\n",
              "    </tr>\n",
              "    <tr>\n",
              "      <th>...</th>\n",
              "      <td>...</td>\n",
              "      <td>...</td>\n",
              "      <td>...</td>\n",
              "      <td>...</td>\n",
              "      <td>...</td>\n",
              "      <td>...</td>\n",
              "      <td>...</td>\n",
              "      <td>...</td>\n",
              "      <td>...</td>\n",
              "      <td>...</td>\n",
              "      <td>...</td>\n",
              "      <td>...</td>\n",
              "    </tr>\n",
              "    <tr>\n",
              "      <th>4893</th>\n",
              "      <td>6.2</td>\n",
              "      <td>0.21</td>\n",
              "      <td>0.29</td>\n",
              "      <td>1.6</td>\n",
              "      <td>0.039</td>\n",
              "      <td>24.0</td>\n",
              "      <td>92.0</td>\n",
              "      <td>0.99114</td>\n",
              "      <td>3.27</td>\n",
              "      <td>0.50</td>\n",
              "      <td>11.2</td>\n",
              "      <td>6</td>\n",
              "    </tr>\n",
              "    <tr>\n",
              "      <th>4894</th>\n",
              "      <td>6.6</td>\n",
              "      <td>0.32</td>\n",
              "      <td>0.36</td>\n",
              "      <td>8.0</td>\n",
              "      <td>0.047</td>\n",
              "      <td>57.0</td>\n",
              "      <td>168.0</td>\n",
              "      <td>0.99490</td>\n",
              "      <td>3.15</td>\n",
              "      <td>0.46</td>\n",
              "      <td>9.6</td>\n",
              "      <td>5</td>\n",
              "    </tr>\n",
              "    <tr>\n",
              "      <th>4895</th>\n",
              "      <td>6.5</td>\n",
              "      <td>0.24</td>\n",
              "      <td>0.19</td>\n",
              "      <td>1.2</td>\n",
              "      <td>0.041</td>\n",
              "      <td>30.0</td>\n",
              "      <td>111.0</td>\n",
              "      <td>0.99254</td>\n",
              "      <td>2.99</td>\n",
              "      <td>0.46</td>\n",
              "      <td>9.4</td>\n",
              "      <td>6</td>\n",
              "    </tr>\n",
              "    <tr>\n",
              "      <th>4896</th>\n",
              "      <td>5.5</td>\n",
              "      <td>0.29</td>\n",
              "      <td>0.30</td>\n",
              "      <td>1.1</td>\n",
              "      <td>0.022</td>\n",
              "      <td>20.0</td>\n",
              "      <td>110.0</td>\n",
              "      <td>0.98869</td>\n",
              "      <td>3.34</td>\n",
              "      <td>0.38</td>\n",
              "      <td>12.8</td>\n",
              "      <td>7</td>\n",
              "    </tr>\n",
              "    <tr>\n",
              "      <th>4897</th>\n",
              "      <td>6.0</td>\n",
              "      <td>0.21</td>\n",
              "      <td>0.38</td>\n",
              "      <td>0.8</td>\n",
              "      <td>0.020</td>\n",
              "      <td>22.0</td>\n",
              "      <td>98.0</td>\n",
              "      <td>0.98941</td>\n",
              "      <td>3.26</td>\n",
              "      <td>0.32</td>\n",
              "      <td>11.8</td>\n",
              "      <td>6</td>\n",
              "    </tr>\n",
              "  </tbody>\n",
              "</table>\n",
              "<p>4898 rows × 12 columns</p>\n",
              "</div>"
            ],
            "text/plain": [
              "      fixed acidity  volatile acidity  citric acid  ...  sulphates  alcohol  quality\n",
              "0               7.0              0.27         0.36  ...       0.45      8.8        6\n",
              "1               6.3              0.30         0.34  ...       0.49      9.5        6\n",
              "2               8.1              0.28         0.40  ...       0.44     10.1        6\n",
              "3               7.2              0.23         0.32  ...       0.40      9.9        6\n",
              "4               7.2              0.23         0.32  ...       0.40      9.9        6\n",
              "...             ...               ...          ...  ...        ...      ...      ...\n",
              "4893            6.2              0.21         0.29  ...       0.50     11.2        6\n",
              "4894            6.6              0.32         0.36  ...       0.46      9.6        5\n",
              "4895            6.5              0.24         0.19  ...       0.46      9.4        6\n",
              "4896            5.5              0.29         0.30  ...       0.38     12.8        7\n",
              "4897            6.0              0.21         0.38  ...       0.32     11.8        6\n",
              "\n",
              "[4898 rows x 12 columns]"
            ]
          },
          "metadata": {
            "tags": []
          }
        }
      ]
    },
    {
      "cell_type": "code",
      "metadata": {
        "id": "mhok1xuAONZv",
        "colab_type": "code",
        "colab": {
          "base_uri": "https://localhost:8080/",
          "height": 436
        },
        "outputId": "3d25a345-d627-481b-ad1a-862f48b476c1"
      },
      "source": [
        "display(red_wine)"
      ],
      "execution_count": 146,
      "outputs": [
        {
          "output_type": "display_data",
          "data": {
            "text/html": [
              "<div>\n",
              "<style scoped>\n",
              "    .dataframe tbody tr th:only-of-type {\n",
              "        vertical-align: middle;\n",
              "    }\n",
              "\n",
              "    .dataframe tbody tr th {\n",
              "        vertical-align: top;\n",
              "    }\n",
              "\n",
              "    .dataframe thead th {\n",
              "        text-align: right;\n",
              "    }\n",
              "</style>\n",
              "<table border=\"1\" class=\"dataframe\">\n",
              "  <thead>\n",
              "    <tr style=\"text-align: right;\">\n",
              "      <th></th>\n",
              "      <th>fixed acidity</th>\n",
              "      <th>volatile acidity</th>\n",
              "      <th>citric acid</th>\n",
              "      <th>residual sugar</th>\n",
              "      <th>chlorides</th>\n",
              "      <th>free sulfur dioxide</th>\n",
              "      <th>total sulfur dioxide</th>\n",
              "      <th>density</th>\n",
              "      <th>pH</th>\n",
              "      <th>sulphates</th>\n",
              "      <th>alcohol</th>\n",
              "      <th>quality</th>\n",
              "    </tr>\n",
              "  </thead>\n",
              "  <tbody>\n",
              "    <tr>\n",
              "      <th>0</th>\n",
              "      <td>7.4</td>\n",
              "      <td>0.700</td>\n",
              "      <td>0.00</td>\n",
              "      <td>1.9</td>\n",
              "      <td>0.076</td>\n",
              "      <td>11</td>\n",
              "      <td>34</td>\n",
              "      <td>0.99780</td>\n",
              "      <td>3.51</td>\n",
              "      <td>0.56</td>\n",
              "      <td>9.4</td>\n",
              "      <td>5</td>\n",
              "    </tr>\n",
              "    <tr>\n",
              "      <th>1</th>\n",
              "      <td>7.8</td>\n",
              "      <td>0.880</td>\n",
              "      <td>0.00</td>\n",
              "      <td>2.6</td>\n",
              "      <td>0.098</td>\n",
              "      <td>25</td>\n",
              "      <td>67</td>\n",
              "      <td>0.99680</td>\n",
              "      <td>3.20</td>\n",
              "      <td>0.68</td>\n",
              "      <td>9.8</td>\n",
              "      <td>5</td>\n",
              "    </tr>\n",
              "    <tr>\n",
              "      <th>2</th>\n",
              "      <td>7.8</td>\n",
              "      <td>0.760</td>\n",
              "      <td>0.04</td>\n",
              "      <td>2.3</td>\n",
              "      <td>0.092</td>\n",
              "      <td>15</td>\n",
              "      <td>54</td>\n",
              "      <td>0.99700</td>\n",
              "      <td>3.26</td>\n",
              "      <td>0.65</td>\n",
              "      <td>9.8</td>\n",
              "      <td>5</td>\n",
              "    </tr>\n",
              "    <tr>\n",
              "      <th>3</th>\n",
              "      <td>11.2</td>\n",
              "      <td>0.280</td>\n",
              "      <td>0.56</td>\n",
              "      <td>1.9</td>\n",
              "      <td>0.075</td>\n",
              "      <td>17</td>\n",
              "      <td>60</td>\n",
              "      <td>0.99800</td>\n",
              "      <td>3.16</td>\n",
              "      <td>0.58</td>\n",
              "      <td>9.8</td>\n",
              "      <td>6</td>\n",
              "    </tr>\n",
              "    <tr>\n",
              "      <th>4</th>\n",
              "      <td>7.4</td>\n",
              "      <td>0.700</td>\n",
              "      <td>0.00</td>\n",
              "      <td>1.9</td>\n",
              "      <td>0.076</td>\n",
              "      <td>11</td>\n",
              "      <td>34</td>\n",
              "      <td>0.99780</td>\n",
              "      <td>3.51</td>\n",
              "      <td>0.56</td>\n",
              "      <td>9.4</td>\n",
              "      <td>5</td>\n",
              "    </tr>\n",
              "    <tr>\n",
              "      <th>...</th>\n",
              "      <td>...</td>\n",
              "      <td>...</td>\n",
              "      <td>...</td>\n",
              "      <td>...</td>\n",
              "      <td>...</td>\n",
              "      <td>...</td>\n",
              "      <td>...</td>\n",
              "      <td>...</td>\n",
              "      <td>...</td>\n",
              "      <td>...</td>\n",
              "      <td>...</td>\n",
              "      <td>...</td>\n",
              "    </tr>\n",
              "    <tr>\n",
              "      <th>1594</th>\n",
              "      <td>6.2</td>\n",
              "      <td>0.600</td>\n",
              "      <td>0.08</td>\n",
              "      <td>2.0</td>\n",
              "      <td>0.090</td>\n",
              "      <td>32</td>\n",
              "      <td>44</td>\n",
              "      <td>0.99490</td>\n",
              "      <td>3.45</td>\n",
              "      <td>0.58</td>\n",
              "      <td>10.5</td>\n",
              "      <td>5</td>\n",
              "    </tr>\n",
              "    <tr>\n",
              "      <th>1595</th>\n",
              "      <td>5.9</td>\n",
              "      <td>0.550</td>\n",
              "      <td>0.10</td>\n",
              "      <td>2.2</td>\n",
              "      <td>0.062</td>\n",
              "      <td>39</td>\n",
              "      <td>51</td>\n",
              "      <td>0.99512</td>\n",
              "      <td>3.52</td>\n",
              "      <td>0.76</td>\n",
              "      <td>11.2</td>\n",
              "      <td>6</td>\n",
              "    </tr>\n",
              "    <tr>\n",
              "      <th>1596</th>\n",
              "      <td>6.3</td>\n",
              "      <td>0.510</td>\n",
              "      <td>0.13</td>\n",
              "      <td>2.3</td>\n",
              "      <td>0.076</td>\n",
              "      <td>29</td>\n",
              "      <td>40</td>\n",
              "      <td>0.99574</td>\n",
              "      <td>3.42</td>\n",
              "      <td>0.75</td>\n",
              "      <td>11.0</td>\n",
              "      <td>6</td>\n",
              "    </tr>\n",
              "    <tr>\n",
              "      <th>1597</th>\n",
              "      <td>5.9</td>\n",
              "      <td>0.645</td>\n",
              "      <td>0.12</td>\n",
              "      <td>2.0</td>\n",
              "      <td>0.075</td>\n",
              "      <td>32</td>\n",
              "      <td>44</td>\n",
              "      <td>0.99547</td>\n",
              "      <td>3.57</td>\n",
              "      <td>0.71</td>\n",
              "      <td>10.2</td>\n",
              "      <td>5</td>\n",
              "    </tr>\n",
              "    <tr>\n",
              "      <th>1598</th>\n",
              "      <td>6.0</td>\n",
              "      <td>0.310</td>\n",
              "      <td>0.47</td>\n",
              "      <td>3.6</td>\n",
              "      <td>0.067</td>\n",
              "      <td>18</td>\n",
              "      <td>42</td>\n",
              "      <td>0.99549</td>\n",
              "      <td>3.39</td>\n",
              "      <td>0.66</td>\n",
              "      <td>11.0</td>\n",
              "      <td>6</td>\n",
              "    </tr>\n",
              "  </tbody>\n",
              "</table>\n",
              "<p>1599 rows × 12 columns</p>\n",
              "</div>"
            ],
            "text/plain": [
              "      fixed acidity  volatile acidity  citric acid  ...  sulphates  alcohol  quality\n",
              "0               7.4             0.700         0.00  ...       0.56      9.4        5\n",
              "1               7.8             0.880         0.00  ...       0.68      9.8        5\n",
              "2               7.8             0.760         0.04  ...       0.65      9.8        5\n",
              "3              11.2             0.280         0.56  ...       0.58      9.8        6\n",
              "4               7.4             0.700         0.00  ...       0.56      9.4        5\n",
              "...             ...               ...          ...  ...        ...      ...      ...\n",
              "1594            6.2             0.600         0.08  ...       0.58     10.5        5\n",
              "1595            5.9             0.550         0.10  ...       0.76     11.2        6\n",
              "1596            6.3             0.510         0.13  ...       0.75     11.0        6\n",
              "1597            5.9             0.645         0.12  ...       0.71     10.2        5\n",
              "1598            6.0             0.310         0.47  ...       0.66     11.0        6\n",
              "\n",
              "[1599 rows x 12 columns]"
            ]
          },
          "metadata": {
            "tags": []
          }
        }
      ]
    },
    {
      "cell_type": "code",
      "metadata": {
        "id": "A9qopoitOQ2C",
        "colab_type": "code",
        "colab": {
          "base_uri": "https://localhost:8080/",
          "height": 34
        },
        "outputId": "c3f3fa0e-430f-4992-9f77-4f483dc22fec"
      },
      "source": [
        "len(white_wine)"
      ],
      "execution_count": 147,
      "outputs": [
        {
          "output_type": "execute_result",
          "data": {
            "text/plain": [
              "4898"
            ]
          },
          "metadata": {
            "tags": []
          },
          "execution_count": 147
        }
      ]
    },
    {
      "cell_type": "code",
      "metadata": {
        "id": "Opbq_6RQRiC9",
        "colab_type": "code",
        "colab": {}
      },
      "source": [
        "import numpy as np\n",
        "from sklearn.model_selection import train_test_split\n",
        "\n",
        "\n",
        "def generate_data(df, t_r):\n",
        "\n",
        "\n",
        "  X = df.drop(['quality'], axis = 1)\n",
        "  Y = df['quality']\n",
        "\n",
        "\n",
        "\n",
        "  X_train, X_test = train_test_split(X, test_size = 1-t_r, random_state = 0)\n",
        "  Y_train, Y_test = train_test_split(Y, test_size = 1-t_r, random_state = 0)\n",
        "\n",
        "\n",
        "\n",
        "\n",
        "\n",
        "  return X_train.values, Y_train, X_test.values, Y_test\n",
        "\n",
        "\n"
      ],
      "execution_count": 0,
      "outputs": []
    },
    {
      "cell_type": "code",
      "metadata": {
        "id": "FzuFNpAqxux5",
        "colab_type": "code",
        "colab": {}
      },
      "source": [
        "x_train, y_train, x_test, y_test = generate_data(white_wine, 0.7)"
      ],
      "execution_count": 0,
      "outputs": []
    },
    {
      "cell_type": "code",
      "metadata": {
        "id": "p4O1ESKfyHcD",
        "colab_type": "code",
        "colab": {
          "base_uri": "https://localhost:8080/",
          "height": 51
        },
        "outputId": "23728ff6-adaf-4c01-e494-3c970028a9a3"
      },
      "source": [
        "x_train[0]"
      ],
      "execution_count": 150,
      "outputs": [
        {
          "output_type": "execute_result",
          "data": {
            "text/plain": [
              "array([  6.4   ,   0.29  ,   0.44  ,   3.6   ,   0.197 ,  75.    ,\n",
              "       183.    ,   0.9942,   3.01  ,   0.38  ,   9.1   ])"
            ]
          },
          "metadata": {
            "tags": []
          },
          "execution_count": 150
        }
      ]
    },
    {
      "cell_type": "code",
      "metadata": {
        "id": "mTLqjXCv1Hig",
        "colab_type": "code",
        "colab": {
          "base_uri": "https://localhost:8080/",
          "height": 68
        },
        "outputId": "ffeb5a69-4571-4f1d-bd01-2f5ab5d30814"
      },
      "source": [
        "x_test[0]"
      ],
      "execution_count": 151,
      "outputs": [
        {
          "output_type": "execute_result",
          "data": {
            "text/plain": [
              "array([7.3000e+00, 3.2000e-01, 3.5000e-01, 1.4000e+00, 5.0000e-02,\n",
              "       8.0000e+00, 1.6300e+02, 9.9244e-01, 3.2400e+00, 4.2000e-01,\n",
              "       1.0700e+01])"
            ]
          },
          "metadata": {
            "tags": []
          },
          "execution_count": 151
        }
      ]
    },
    {
      "cell_type": "code",
      "metadata": {
        "id": "t7jFTnCX1Yo8",
        "colab_type": "code",
        "colab": {
          "base_uri": "https://localhost:8080/",
          "height": 221
        },
        "outputId": "af4ca15e-3836-4677-9e78-7eebd8ecaed0"
      },
      "source": [
        "y_train"
      ],
      "execution_count": 152,
      "outputs": [
        {
          "output_type": "execute_result",
          "data": {
            "text/plain": [
              "196     5\n",
              "4552    6\n",
              "133     5\n",
              "2517    6\n",
              "3034    6\n",
              "       ..\n",
              "4859    6\n",
              "3264    6\n",
              "1653    6\n",
              "2607    6\n",
              "2732    5\n",
              "Name: quality, Length: 3428, dtype: int64"
            ]
          },
          "metadata": {
            "tags": []
          },
          "execution_count": 152
        }
      ]
    },
    {
      "cell_type": "code",
      "metadata": {
        "id": "r9xD3HWD1eAt",
        "colab_type": "code",
        "colab": {
          "base_uri": "https://localhost:8080/",
          "height": 221
        },
        "outputId": "61fb6e34-3a55-4daa-e22e-39b19b245a79"
      },
      "source": [
        "y_test"
      ],
      "execution_count": 153,
      "outputs": [
        {
          "output_type": "execute_result",
          "data": {
            "text/plain": [
              "2762    5\n",
              "42      6\n",
              "1419    7\n",
              "3664    8\n",
              "2125    5\n",
              "       ..\n",
              "934     5\n",
              "2803    8\n",
              "3364    6\n",
              "3870    6\n",
              "3677    6\n",
              "Name: quality, Length: 1470, dtype: int64"
            ]
          },
          "metadata": {
            "tags": []
          },
          "execution_count": 153
        }
      ]
    },
    {
      "cell_type": "code",
      "metadata": {
        "id": "B_YTyqYL1f8X",
        "colab_type": "code",
        "colab": {
          "base_uri": "https://localhost:8080/",
          "height": 85
        },
        "outputId": "2f65a2f2-3d5d-418b-eef7-e3dd35248687"
      },
      "source": [
        "import numpy as np\n",
        "\n",
        "print(\"train_data : \" , x_train.shape)\n",
        "\n",
        "print(\"train_label : \", y_train.size)\n",
        "print(\"test_data : \", x_test.shape)\n",
        "\n",
        "print(\"test_label : \", y_test.size)"
      ],
      "execution_count": 154,
      "outputs": [
        {
          "output_type": "stream",
          "text": [
            "train_data :  (3428, 11)\n",
            "train_label :  3428\n",
            "test_data :  (1470, 11)\n",
            "test_label :  1470\n"
          ],
          "name": "stdout"
        }
      ]
    },
    {
      "cell_type": "code",
      "metadata": {
        "id": "Zx2L3s6uHak0",
        "colab_type": "code",
        "colab": {
          "base_uri": "https://localhost:8080/",
          "height": 136
        },
        "outputId": "db538a98-c45a-4068-ad2f-bbf967f3cb56"
      },
      "source": [
        "x_train"
      ],
      "execution_count": 155,
      "outputs": [
        {
          "output_type": "execute_result",
          "data": {
            "text/plain": [
              "array([[ 6.4 ,  0.29,  0.44, ...,  3.01,  0.38,  9.1 ],\n",
              "       [ 6.4 ,  0.55,  0.26, ...,  3.22,  0.73, 13.1 ],\n",
              "       [ 6.6 ,  0.24,  0.27, ...,  3.24,  0.51,  9.2 ],\n",
              "       ...,\n",
              "       [ 7.9 ,  0.33,  0.28, ...,  3.15,  0.38,  8.8 ],\n",
              "       [ 8.9 ,  0.26,  0.33, ...,  3.13,  0.46, 10.8 ],\n",
              "       [ 7.9 ,  0.51,  0.34, ...,  3.09,  0.51, 10.  ]])"
            ]
          },
          "metadata": {
            "tags": []
          },
          "execution_count": 155
        }
      ]
    },
    {
      "cell_type": "code",
      "metadata": {
        "id": "AovddHjVHhc3",
        "colab_type": "code",
        "colab": {
          "base_uri": "https://localhost:8080/",
          "height": 221
        },
        "outputId": "23953b0b-26a5-40dc-984c-f2afbb0b6778"
      },
      "source": [
        "y_train"
      ],
      "execution_count": 156,
      "outputs": [
        {
          "output_type": "execute_result",
          "data": {
            "text/plain": [
              "196     5\n",
              "4552    6\n",
              "133     5\n",
              "2517    6\n",
              "3034    6\n",
              "       ..\n",
              "4859    6\n",
              "3264    6\n",
              "1653    6\n",
              "2607    6\n",
              "2732    5\n",
              "Name: quality, Length: 3428, dtype: int64"
            ]
          },
          "metadata": {
            "tags": []
          },
          "execution_count": 156
        }
      ]
    },
    {
      "cell_type": "code",
      "metadata": {
        "id": "ko3u4WYeHu1J",
        "colab_type": "code",
        "colab": {
          "base_uri": "https://localhost:8080/",
          "height": 136
        },
        "outputId": "3d08e0bf-e1d5-4135-8e5d-1b517136aeb5"
      },
      "source": [
        "x_test"
      ],
      "execution_count": 157,
      "outputs": [
        {
          "output_type": "execute_result",
          "data": {
            "text/plain": [
              "array([[ 7.3 ,  0.32,  0.35, ...,  3.24,  0.42, 10.7 ],\n",
              "       [ 7.  ,  0.31,  0.26, ...,  3.13,  0.46,  9.8 ],\n",
              "       [ 7.6 ,  0.14,  0.74, ...,  3.07,  0.4 , 10.8 ],\n",
              "       ...,\n",
              "       [ 6.  ,  0.2 ,  0.26, ...,  3.14,  0.38, 11.5 ],\n",
              "       [ 6.1 ,  0.23,  0.27, ...,  3.16,  0.4 , 10.2 ],\n",
              "       [ 6.9 ,  0.58,  0.58, ...,  3.28,  0.44, 12.2 ]])"
            ]
          },
          "metadata": {
            "tags": []
          },
          "execution_count": 157
        }
      ]
    },
    {
      "cell_type": "code",
      "metadata": {
        "id": "PfnCMdDLHxFJ",
        "colab_type": "code",
        "colab": {
          "base_uri": "https://localhost:8080/",
          "height": 221
        },
        "outputId": "6ea07358-053b-4158-c455-ac695ccda83a"
      },
      "source": [
        "y_test"
      ],
      "execution_count": 158,
      "outputs": [
        {
          "output_type": "execute_result",
          "data": {
            "text/plain": [
              "2762    5\n",
              "42      6\n",
              "1419    7\n",
              "3664    8\n",
              "2125    5\n",
              "       ..\n",
              "934     5\n",
              "2803    8\n",
              "3364    6\n",
              "3870    6\n",
              "3677    6\n",
              "Name: quality, Length: 1470, dtype: int64"
            ]
          },
          "metadata": {
            "tags": []
          },
          "execution_count": 158
        }
      ]
    },
    {
      "cell_type": "code",
      "metadata": {
        "id": "PgBKuOy0BPrC",
        "colab_type": "code",
        "colab": {
          "base_uri": "https://localhost:8080/",
          "height": 1000
        },
        "outputId": "20243539-5533-44f9-c7f3-fe5043ccbf25"
      },
      "source": [
        "\n",
        "model = Sequential()\n",
        "model.add(Dense(32, input_dim = 11, activation = 'relu' ))\n",
        "model.add(Dense(11, activation = 'softmax'))\n",
        "\n",
        "model.compile(optimizer = 'adam', loss = 'sparse_categorical_crossentropy', metrics = ['accuracy'])\n",
        "\n",
        "history = model.fit(x_train, y_train, epochs=100, batch_size = 512)"
      ],
      "execution_count": 159,
      "outputs": [
        {
          "output_type": "stream",
          "text": [
            "Epoch 1/100\n",
            "3428/3428 [==============================] - 0s 23us/step - loss: 20.3421 - accuracy: 0.2809\n",
            "Epoch 2/100\n",
            "3428/3428 [==============================] - 0s 4us/step - loss: 16.4040 - accuracy: 0.4209\n",
            "Epoch 3/100\n",
            "3428/3428 [==============================] - 0s 5us/step - loss: 12.6675 - accuracy: 0.3282\n",
            "Epoch 4/100\n",
            "3428/3428 [==============================] - 0s 4us/step - loss: 9.1117 - accuracy: 0.3366\n",
            "Epoch 5/100\n",
            "3428/3428 [==============================] - 0s 4us/step - loss: 5.7532 - accuracy: 0.3722\n",
            "Epoch 6/100\n",
            "3428/3428 [==============================] - 0s 4us/step - loss: 3.5469 - accuracy: 0.2558\n",
            "Epoch 7/100\n",
            "3428/3428 [==============================] - 0s 5us/step - loss: 1.8888 - accuracy: 0.4419\n",
            "Epoch 8/100\n",
            "3428/3428 [==============================] - 0s 4us/step - loss: 1.9623 - accuracy: 0.3821\n",
            "Epoch 9/100\n",
            "3428/3428 [==============================] - 0s 5us/step - loss: 1.6483 - accuracy: 0.4396\n",
            "Epoch 10/100\n",
            "3428/3428 [==============================] - 0s 4us/step - loss: 1.5945 - accuracy: 0.3912\n",
            "Epoch 11/100\n",
            "3428/3428 [==============================] - 0s 5us/step - loss: 1.5384 - accuracy: 0.4457\n",
            "Epoch 12/100\n",
            "3428/3428 [==============================] - 0s 5us/step - loss: 1.4773 - accuracy: 0.4390\n",
            "Epoch 13/100\n",
            "3428/3428 [==============================] - 0s 5us/step - loss: 1.4650 - accuracy: 0.4163\n",
            "Epoch 14/100\n",
            "3428/3428 [==============================] - 0s 6us/step - loss: 1.4458 - accuracy: 0.4583\n",
            "Epoch 15/100\n",
            "3428/3428 [==============================] - 0s 8us/step - loss: 1.4314 - accuracy: 0.4376\n",
            "Epoch 16/100\n",
            "3428/3428 [==============================] - 0s 5us/step - loss: 1.4170 - accuracy: 0.4422\n",
            "Epoch 17/100\n",
            "3428/3428 [==============================] - 0s 5us/step - loss: 1.4084 - accuracy: 0.4568\n",
            "Epoch 18/100\n",
            "3428/3428 [==============================] - 0s 5us/step - loss: 1.3987 - accuracy: 0.4492\n",
            "Epoch 19/100\n",
            "3428/3428 [==============================] - 0s 5us/step - loss: 1.3899 - accuracy: 0.4516\n",
            "Epoch 20/100\n",
            "3428/3428 [==============================] - 0s 6us/step - loss: 1.3812 - accuracy: 0.4545\n",
            "Epoch 21/100\n",
            "3428/3428 [==============================] - 0s 5us/step - loss: 1.3744 - accuracy: 0.4472\n",
            "Epoch 22/100\n",
            "3428/3428 [==============================] - 0s 5us/step - loss: 1.3673 - accuracy: 0.4568\n",
            "Epoch 23/100\n",
            "3428/3428 [==============================] - 0s 4us/step - loss: 1.3600 - accuracy: 0.4597\n",
            "Epoch 24/100\n",
            "3428/3428 [==============================] - 0s 5us/step - loss: 1.3542 - accuracy: 0.4525\n",
            "Epoch 25/100\n",
            "3428/3428 [==============================] - 0s 5us/step - loss: 1.3482 - accuracy: 0.4650\n",
            "Epoch 26/100\n",
            "3428/3428 [==============================] - 0s 4us/step - loss: 1.3431 - accuracy: 0.4612\n",
            "Epoch 27/100\n",
            "3428/3428 [==============================] - 0s 5us/step - loss: 1.3368 - accuracy: 0.4574\n",
            "Epoch 28/100\n",
            "3428/3428 [==============================] - 0s 4us/step - loss: 1.3330 - accuracy: 0.4673\n",
            "Epoch 29/100\n",
            "3428/3428 [==============================] - 0s 6us/step - loss: 1.3278 - accuracy: 0.4653\n",
            "Epoch 30/100\n",
            "3428/3428 [==============================] - 0s 5us/step - loss: 1.3228 - accuracy: 0.4641\n",
            "Epoch 31/100\n",
            "3428/3428 [==============================] - 0s 5us/step - loss: 1.3192 - accuracy: 0.4673\n",
            "Epoch 32/100\n",
            "3428/3428 [==============================] - 0s 4us/step - loss: 1.3151 - accuracy: 0.4624\n",
            "Epoch 33/100\n",
            "3428/3428 [==============================] - 0s 4us/step - loss: 1.3099 - accuracy: 0.4685\n",
            "Epoch 34/100\n",
            "3428/3428 [==============================] - 0s 4us/step - loss: 1.3060 - accuracy: 0.4702\n",
            "Epoch 35/100\n",
            "3428/3428 [==============================] - 0s 5us/step - loss: 1.3027 - accuracy: 0.4662\n",
            "Epoch 36/100\n",
            "3428/3428 [==============================] - 0s 6us/step - loss: 1.3020 - accuracy: 0.4603\n",
            "Epoch 37/100\n",
            "3428/3428 [==============================] - 0s 4us/step - loss: 1.2942 - accuracy: 0.4767\n",
            "Epoch 38/100\n",
            "3428/3428 [==============================] - 0s 4us/step - loss: 1.2958 - accuracy: 0.4702\n",
            "Epoch 39/100\n",
            "3428/3428 [==============================] - 0s 4us/step - loss: 1.2867 - accuracy: 0.4705\n",
            "Epoch 40/100\n",
            "3428/3428 [==============================] - 0s 4us/step - loss: 1.2870 - accuracy: 0.4697\n",
            "Epoch 41/100\n",
            "3428/3428 [==============================] - 0s 4us/step - loss: 1.2843 - accuracy: 0.4764\n",
            "Epoch 42/100\n",
            "3428/3428 [==============================] - 0s 4us/step - loss: 1.2827 - accuracy: 0.4694\n",
            "Epoch 43/100\n",
            "3428/3428 [==============================] - 0s 4us/step - loss: 1.2801 - accuracy: 0.4691\n",
            "Epoch 44/100\n",
            "3428/3428 [==============================] - 0s 4us/step - loss: 1.2750 - accuracy: 0.4758\n",
            "Epoch 45/100\n",
            "3428/3428 [==============================] - 0s 4us/step - loss: 1.2686 - accuracy: 0.4743\n",
            "Epoch 46/100\n",
            "3428/3428 [==============================] - 0s 4us/step - loss: 1.2671 - accuracy: 0.4755\n",
            "Epoch 47/100\n",
            "3428/3428 [==============================] - 0s 4us/step - loss: 1.2646 - accuracy: 0.4726\n",
            "Epoch 48/100\n",
            "3428/3428 [==============================] - 0s 4us/step - loss: 1.2670 - accuracy: 0.4705\n",
            "Epoch 49/100\n",
            "3428/3428 [==============================] - 0s 5us/step - loss: 1.2633 - accuracy: 0.4767\n",
            "Epoch 50/100\n",
            "3428/3428 [==============================] - 0s 4us/step - loss: 1.2574 - accuracy: 0.4708\n",
            "Epoch 51/100\n",
            "3428/3428 [==============================] - 0s 4us/step - loss: 1.2572 - accuracy: 0.4793\n",
            "Epoch 52/100\n",
            "3428/3428 [==============================] - 0s 4us/step - loss: 1.2561 - accuracy: 0.4656\n",
            "Epoch 53/100\n",
            "3428/3428 [==============================] - 0s 5us/step - loss: 1.2513 - accuracy: 0.4775\n",
            "Epoch 54/100\n",
            "3428/3428 [==============================] - 0s 4us/step - loss: 1.2491 - accuracy: 0.4726\n",
            "Epoch 55/100\n",
            "3428/3428 [==============================] - 0s 4us/step - loss: 1.2480 - accuracy: 0.4851\n",
            "Epoch 56/100\n",
            "3428/3428 [==============================] - 0s 4us/step - loss: 1.2453 - accuracy: 0.4708\n",
            "Epoch 57/100\n",
            "3428/3428 [==============================] - 0s 4us/step - loss: 1.2379 - accuracy: 0.4807\n",
            "Epoch 58/100\n",
            "3428/3428 [==============================] - 0s 4us/step - loss: 1.2316 - accuracy: 0.4723\n",
            "Epoch 59/100\n",
            "3428/3428 [==============================] - 0s 6us/step - loss: 1.2293 - accuracy: 0.4764\n",
            "Epoch 60/100\n",
            "3428/3428 [==============================] - 0s 5us/step - loss: 1.2284 - accuracy: 0.4810\n",
            "Epoch 61/100\n",
            "3428/3428 [==============================] - 0s 5us/step - loss: 1.2273 - accuracy: 0.4857\n",
            "Epoch 62/100\n",
            "3428/3428 [==============================] - 0s 4us/step - loss: 1.2340 - accuracy: 0.4691\n",
            "Epoch 63/100\n",
            "3428/3428 [==============================] - 0s 4us/step - loss: 1.2228 - accuracy: 0.4912\n",
            "Epoch 64/100\n",
            "3428/3428 [==============================] - 0s 4us/step - loss: 1.2174 - accuracy: 0.4793\n",
            "Epoch 65/100\n",
            "3428/3428 [==============================] - 0s 4us/step - loss: 1.2211 - accuracy: 0.4793\n",
            "Epoch 66/100\n",
            "3428/3428 [==============================] - 0s 4us/step - loss: 1.2153 - accuracy: 0.4860\n",
            "Epoch 67/100\n",
            "3428/3428 [==============================] - 0s 4us/step - loss: 1.2132 - accuracy: 0.4845\n",
            "Epoch 68/100\n",
            "3428/3428 [==============================] - 0s 4us/step - loss: 1.2082 - accuracy: 0.4837\n",
            "Epoch 69/100\n",
            "3428/3428 [==============================] - 0s 5us/step - loss: 1.2057 - accuracy: 0.4793\n",
            "Epoch 70/100\n",
            "3428/3428 [==============================] - 0s 4us/step - loss: 1.2053 - accuracy: 0.4825\n",
            "Epoch 71/100\n",
            "3428/3428 [==============================] - 0s 4us/step - loss: 1.2026 - accuracy: 0.4880\n",
            "Epoch 72/100\n",
            "3428/3428 [==============================] - 0s 4us/step - loss: 1.2022 - accuracy: 0.4840\n",
            "Epoch 73/100\n",
            "3428/3428 [==============================] - 0s 4us/step - loss: 1.2025 - accuracy: 0.4831\n",
            "Epoch 74/100\n",
            "3428/3428 [==============================] - 0s 4us/step - loss: 1.2007 - accuracy: 0.4848\n",
            "Epoch 75/100\n",
            "3428/3428 [==============================] - 0s 5us/step - loss: 1.1987 - accuracy: 0.4802\n",
            "Epoch 76/100\n",
            "3428/3428 [==============================] - 0s 6us/step - loss: 1.1959 - accuracy: 0.4866\n",
            "Epoch 77/100\n",
            "3428/3428 [==============================] - 0s 5us/step - loss: 1.1978 - accuracy: 0.4807\n",
            "Epoch 78/100\n",
            "3428/3428 [==============================] - 0s 5us/step - loss: 1.1990 - accuracy: 0.4907\n",
            "Epoch 79/100\n",
            "3428/3428 [==============================] - 0s 4us/step - loss: 1.1985 - accuracy: 0.4813\n",
            "Epoch 80/100\n",
            "3428/3428 [==============================] - 0s 4us/step - loss: 1.1939 - accuracy: 0.4942\n",
            "Epoch 81/100\n",
            "3428/3428 [==============================] - 0s 4us/step - loss: 1.1942 - accuracy: 0.4886\n",
            "Epoch 82/100\n",
            "3428/3428 [==============================] - 0s 5us/step - loss: 1.1938 - accuracy: 0.4825\n",
            "Epoch 83/100\n",
            "3428/3428 [==============================] - 0s 4us/step - loss: 1.1911 - accuracy: 0.4924\n",
            "Epoch 84/100\n",
            "3428/3428 [==============================] - 0s 5us/step - loss: 1.1903 - accuracy: 0.4875\n",
            "Epoch 85/100\n",
            "3428/3428 [==============================] - 0s 4us/step - loss: 1.1885 - accuracy: 0.4860\n",
            "Epoch 86/100\n",
            "3428/3428 [==============================] - 0s 4us/step - loss: 1.1891 - accuracy: 0.4866\n",
            "Epoch 87/100\n",
            "3428/3428 [==============================] - 0s 5us/step - loss: 1.1853 - accuracy: 0.4910\n",
            "Epoch 88/100\n",
            "3428/3428 [==============================] - 0s 5us/step - loss: 1.1861 - accuracy: 0.4857\n",
            "Epoch 89/100\n",
            "3428/3428 [==============================] - 0s 5us/step - loss: 1.1855 - accuracy: 0.4863\n",
            "Epoch 90/100\n",
            "3428/3428 [==============================] - 0s 6us/step - loss: 1.1889 - accuracy: 0.4828\n",
            "Epoch 91/100\n",
            "3428/3428 [==============================] - 0s 5us/step - loss: 1.1875 - accuracy: 0.4807\n",
            "Epoch 92/100\n",
            "3428/3428 [==============================] - 0s 4us/step - loss: 1.1875 - accuracy: 0.4889\n",
            "Epoch 93/100\n",
            "3428/3428 [==============================] - 0s 4us/step - loss: 1.1816 - accuracy: 0.4930\n",
            "Epoch 94/100\n",
            "3428/3428 [==============================] - 0s 4us/step - loss: 1.1784 - accuracy: 0.4895\n",
            "Epoch 95/100\n",
            "3428/3428 [==============================] - 0s 4us/step - loss: 1.1804 - accuracy: 0.4907\n",
            "Epoch 96/100\n",
            "3428/3428 [==============================] - 0s 4us/step - loss: 1.1822 - accuracy: 0.4857\n",
            "Epoch 97/100\n",
            "3428/3428 [==============================] - 0s 4us/step - loss: 1.1810 - accuracy: 0.4898\n",
            "Epoch 98/100\n",
            "3428/3428 [==============================] - 0s 4us/step - loss: 1.1796 - accuracy: 0.4898\n",
            "Epoch 99/100\n",
            "3428/3428 [==============================] - 0s 5us/step - loss: 1.1760 - accuracy: 0.4877\n",
            "Epoch 100/100\n",
            "3428/3428 [==============================] - 0s 4us/step - loss: 1.1762 - accuracy: 0.4886\n"
          ],
          "name": "stdout"
        }
      ]
    },
    {
      "cell_type": "markdown",
      "metadata": {
        "id": "hQQPzwkyIKhS",
        "colab_type": "text"
      },
      "source": [
        ""
      ]
    },
    {
      "cell_type": "code",
      "metadata": {
        "id": "zEka22APMfc1",
        "colab_type": "code",
        "colab": {
          "base_uri": "https://localhost:8080/",
          "height": 1000
        },
        "outputId": "78ffc470-9806-4958-93bc-f2ada1d440d1"
      },
      "source": [
        "history.history"
      ],
      "execution_count": 160,
      "outputs": [
        {
          "output_type": "execute_result",
          "data": {
            "text/plain": [
              "{'accuracy': [0.28092182,\n",
              "  0.42094517,\n",
              "  0.3281797,\n",
              "  0.33663943,\n",
              "  0.3722287,\n",
              "  0.2558343,\n",
              "  0.44194865,\n",
              "  0.382147,\n",
              "  0.43961492,\n",
              "  0.3911902,\n",
              "  0.44574097,\n",
              "  0.4390315,\n",
              "  0.4162777,\n",
              "  0.4582847,\n",
              "  0.43757293,\n",
              "  0.4422404,\n",
              "  0.45682615,\n",
              "  0.44924155,\n",
              "  0.45157525,\n",
              "  0.45449242,\n",
              "  0.44719952,\n",
              "  0.45682615,\n",
              "  0.4597433,\n",
              "  0.4524504,\n",
              "  0.46499416,\n",
              "  0.46120188,\n",
              "  0.45740956,\n",
              "  0.4673279,\n",
              "  0.46528587,\n",
              "  0.46411902,\n",
              "  0.4673279,\n",
              "  0.46236873,\n",
              "  0.46849474,\n",
              "  0.47024503,\n",
              "  0.466161,\n",
              "  0.46032673,\n",
              "  0.47666278,\n",
              "  0.47024503,\n",
              "  0.47053677,\n",
              "  0.46966162,\n",
              "  0.47637105,\n",
              "  0.4693699,\n",
              "  0.46907818,\n",
              "  0.47578764,\n",
              "  0.47432905,\n",
              "  0.4754959,\n",
              "  0.47257876,\n",
              "  0.47053677,\n",
              "  0.47666278,\n",
              "  0.47082847,\n",
              "  0.47928822,\n",
              "  0.4655776,\n",
              "  0.47753793,\n",
              "  0.47257876,\n",
              "  0.48512253,\n",
              "  0.47082847,\n",
              "  0.4807468,\n",
              "  0.47228706,\n",
              "  0.47637105,\n",
              "  0.4810385,\n",
              "  0.48570594,\n",
              "  0.46907818,\n",
              "  0.49124855,\n",
              "  0.47928822,\n",
              "  0.47928822,\n",
              "  0.48599768,\n",
              "  0.4845391,\n",
              "  0.48366395,\n",
              "  0.47928822,\n",
              "  0.4824971,\n",
              "  0.48803967,\n",
              "  0.48395565,\n",
              "  0.4830805,\n",
              "  0.4848308,\n",
              "  0.48016337,\n",
              "  0.4865811,\n",
              "  0.4807468,\n",
              "  0.4906651,\n",
              "  0.48133022,\n",
              "  0.4941657,\n",
              "  0.4886231,\n",
              "  0.4824971,\n",
              "  0.4924154,\n",
              "  0.48745623,\n",
              "  0.48599768,\n",
              "  0.4865811,\n",
              "  0.4909568,\n",
              "  0.48570594,\n",
              "  0.48628938,\n",
              "  0.4827888,\n",
              "  0.4807468,\n",
              "  0.48891482,\n",
              "  0.49299884,\n",
              "  0.48949826,\n",
              "  0.4906651,\n",
              "  0.48570594,\n",
              "  0.48978996,\n",
              "  0.48978996,\n",
              "  0.48774797,\n",
              "  0.4886231],\n",
              " 'loss': [20.34207731311491,\n",
              "  16.404001361708936,\n",
              "  12.667499146077569,\n",
              "  9.111659032739308,\n",
              "  5.753152506771555,\n",
              "  3.5468552282282184,\n",
              "  1.8888162028135747,\n",
              "  1.9623211864273356,\n",
              "  1.648286761453021,\n",
              "  1.5944726307166777,\n",
              "  1.5384245312478189,\n",
              "  1.4773246154206496,\n",
              "  1.4649570278971171,\n",
              "  1.4458331531793958,\n",
              "  1.4313695861967748,\n",
              "  1.4169808947497515,\n",
              "  1.4084021981149182,\n",
              "  1.3986760669995355,\n",
              "  1.3899250585529324,\n",
              "  1.3812132516013005,\n",
              "  1.3743953706224992,\n",
              "  1.3673077554658246,\n",
              "  1.3600415204202836,\n",
              "  1.3541989226324556,\n",
              "  1.3481762512144715,\n",
              "  1.3430656381081811,\n",
              "  1.336792438422507,\n",
              "  1.3330261395720366,\n",
              "  1.3277844452106828,\n",
              "  1.322835473363291,\n",
              "  1.319158800285366,\n",
              "  1.3151253890267887,\n",
              "  1.309864633419967,\n",
              "  1.3060252859823345,\n",
              "  1.3026662222006495,\n",
              "  1.3020081732904618,\n",
              "  1.2941549092774631,\n",
              "  1.2958074937484367,\n",
              "  1.2866562738440834,\n",
              "  1.2869630485877412,\n",
              "  1.2842665144276035,\n",
              "  1.2826727593932714,\n",
              "  1.2800982403226606,\n",
              "  1.2749788293760604,\n",
              "  1.2685880324387078,\n",
              "  1.2670544783738003,\n",
              "  1.2645579397052422,\n",
              "  1.2669865720608688,\n",
              "  1.2633315479185088,\n",
              "  1.2573513600762276,\n",
              "  1.2572408078570905,\n",
              "  1.2561168712384503,\n",
              "  1.2513015352302561,\n",
              "  1.2491042301006607,\n",
              "  1.2480398345577814,\n",
              "  1.2453347023059218,\n",
              "  1.2378951473859254,\n",
              "  1.2315736981228325,\n",
              "  1.229335279698411,\n",
              "  1.2283596003486785,\n",
              "  1.2273052896056738,\n",
              "  1.2339687874603718,\n",
              "  1.2227595595245184,\n",
              "  1.2174464386291237,\n",
              "  1.2211023740200901,\n",
              "  1.2152938834427396,\n",
              "  1.2131745322860665,\n",
              "  1.2081508405567467,\n",
              "  1.2057222709355304,\n",
              "  1.2053267904312774,\n",
              "  1.2025580536943612,\n",
              "  1.202193756365025,\n",
              "  1.2024612026147832,\n",
              "  1.2007310739615138,\n",
              "  1.1987397414800585,\n",
              "  1.1959247444446612,\n",
              "  1.197785834587302,\n",
              "  1.198960915329576,\n",
              "  1.1985268201961539,\n",
              "  1.1939271853991122,\n",
              "  1.194220138124713,\n",
              "  1.193816663921227,\n",
              "  1.1910921205856697,\n",
              "  1.1903284036988,\n",
              "  1.1884742530112784,\n",
              "  1.1890705740437904,\n",
              "  1.1852987542870164,\n",
              "  1.1860952437132632,\n",
              "  1.1854756315224646,\n",
              "  1.1889199875338632,\n",
              "  1.18749127894327,\n",
              "  1.187517932860687,\n",
              "  1.1816462948831405,\n",
              "  1.1783596072758926,\n",
              "  1.1804104082225502,\n",
              "  1.1822332477625221,\n",
              "  1.1809973962944058,\n",
              "  1.1796149371524396,\n",
              "  1.176013615056264,\n",
              "  1.1761733546696578]}"
            ]
          },
          "metadata": {
            "tags": []
          },
          "execution_count": 160
        }
      ]
    },
    {
      "cell_type": "code",
      "metadata": {
        "id": "VJT55UU9Mhxi",
        "colab_type": "code",
        "colab": {
          "base_uri": "https://localhost:8080/",
          "height": 279
        },
        "outputId": "11b2d619-332d-4e71-ad56-73a3839d03aa"
      },
      "source": [
        "import numpy\n",
        "import matplotlib.pyplot as plt\n",
        "\n",
        "y_loss = history.history['loss']\n",
        "y_acc = history.history['accuracy']\n",
        "\n",
        "\n",
        "x_len = numpy.arange(len(y_acc))\n",
        "\n",
        "\n",
        "plt.plot(x_len, y_loss, 'o', c='red', markersize=3, label = 'loss')\n",
        "\n",
        "\n",
        "plt.legend(loc='best')   \n",
        "plt.grid()   # 격자 \n",
        "plt.xlabel('epoch')\n",
        "plt.ylabel('loss')\n",
        "plt.show()\n"
      ],
      "execution_count": 161,
      "outputs": [
        {
          "output_type": "display_data",
          "data": {
            "image/png": "[encoded data removed]",
            "text/plain": [
              "<Figure size 432x288 with 1 Axes>"
            ]
          },
          "metadata": {
            "tags": [],
            "needs_background": "light"
          }
        }
      ]
    },
    {
      "cell_type": "code",
      "metadata": {
        "id": "SOw9H5RkOAMG",
        "colab_type": "code",
        "colab": {
          "base_uri": "https://localhost:8080/",
          "height": 279
        },
        "outputId": "08c4c3fe-e1ca-453a-d299-85e47d075602"
      },
      "source": [
        "\n",
        "\n",
        "x_len = numpy.arange(len(y_acc))\n",
        "\n",
        "plt.plot(x_len, y_acc, 'o', c='blue', markersize=3, label = 'accuarcy')\n",
        "\n",
        "plt.legend(loc='best')   \n",
        "plt.grid()   # 격자 \n",
        "plt.xlabel('epoch')\n",
        "plt.ylabel('accuracy')\n",
        "\n",
        "plt.show()\n",
        "\n"
      ],
      "execution_count": 162,
      "outputs": [
        {
          "output_type": "display_data",
          "data": {
            "image/png": "[encoded data removed]",
            "text/plain": [
              "<Figure size 432x288 with 1 Axes>"
            ]
          },
          "metadata": {
            "tags": [],
            "needs_background": "light"
          }
        }
      ]
    },
    {
      "cell_type": "code",
      "metadata": {
        "id": "igH8TnwTO7To",
        "colab_type": "code",
        "colab": {
          "base_uri": "https://localhost:8080/",
          "height": 34
        },
        "outputId": "dc64b1a7-9362-4f09-a4b9-edee2e3b75b7"
      },
      "source": [
        "test_loss, test_acc = model.evaluate(x_test, y_test, verbose=2)\n",
        "print(test_acc)"
      ],
      "execution_count": 163,
      "outputs": [
        {
          "output_type": "stream",
          "text": [
            "0.4653061330318451\n"
          ],
          "name": "stdout"
        }
      ]
    },
    {
      "cell_type": "code",
      "metadata": {
        "id": "vLeJEbnuPr1g",
        "colab_type": "code",
        "colab": {}
      },
      "source": [
        "w_train, z_train, w_test, z_test = generate_data(red_wine, 0.7)"
      ],
      "execution_count": 0,
      "outputs": []
    },
    {
      "cell_type": "code",
      "metadata": {
        "id": "cTm8r30ZRcUP",
        "colab_type": "code",
        "colab": {
          "base_uri": "https://localhost:8080/",
          "height": 136
        },
        "outputId": "818d25ec-fc0b-4ae0-a156-d69c4cb3a914"
      },
      "source": [
        "w_train\n"
      ],
      "execution_count": 165,
      "outputs": [
        {
          "output_type": "execute_result",
          "data": {
            "text/plain": [
              "array([[ 8.6 ,  0.49,  0.29, ...,  2.93,  1.98,  9.8 ],\n",
              "       [ 8.  ,  0.18,  0.37, ...,  2.89,  0.44, 12.7 ],\n",
              "       [ 6.8 ,  0.67,  0.  , ...,  3.4 ,  0.74,  9.7 ],\n",
              "       ...,\n",
              "       [ 7.9 ,  0.57,  0.31, ...,  3.29,  0.69,  9.5 ],\n",
              "       [13.  ,  0.47,  0.49, ...,  3.3 ,  0.68, 12.7 ],\n",
              "       [ 9.8 ,  0.98,  0.32, ...,  3.25,  0.48,  9.4 ]])"
            ]
          },
          "metadata": {
            "tags": []
          },
          "execution_count": 165
        }
      ]
    },
    {
      "cell_type": "code",
      "metadata": {
        "id": "7yaX4vOsRjJB",
        "colab_type": "code",
        "colab": {
          "base_uri": "https://localhost:8080/",
          "height": 221
        },
        "outputId": "30829f76-dbed-412f-a814-10de471b133e"
      },
      "source": [
        "z_train"
      ],
      "execution_count": 166,
      "outputs": [
        {
          "output_type": "execute_result",
          "data": {
            "text/plain": [
              "92      5\n",
              "1017    6\n",
              "1447    5\n",
              "838     7\n",
              "40      5\n",
              "       ..\n",
              "763     5\n",
              "835     5\n",
              "1216    6\n",
              "559     6\n",
              "684     5\n",
              "Name: quality, Length: 1119, dtype: int64"
            ]
          },
          "metadata": {
            "tags": []
          },
          "execution_count": 166
        }
      ]
    },
    {
      "cell_type": "code",
      "metadata": {
        "id": "Uqp3z9zERtDM",
        "colab_type": "code",
        "colab": {
          "base_uri": "https://localhost:8080/",
          "height": 136
        },
        "outputId": "8d8fb33d-ba69-4cf5-d88b-8530b455e71a"
      },
      "source": [
        "w_test"
      ],
      "execution_count": 167,
      "outputs": [
        {
          "output_type": "execute_result",
          "data": {
            "text/plain": [
              "array([[10.8 ,  0.47,  0.43, ...,  3.17,  0.76, 10.8 ],\n",
              "       [ 8.1 ,  0.82,  0.  , ...,  3.36,  0.53,  9.6 ],\n",
              "       [ 9.1 ,  0.29,  0.33, ...,  3.26,  0.84, 11.7 ],\n",
              "       ...,\n",
              "       [ 7.8 ,  0.55,  0.35, ...,  3.25,  0.56,  9.2 ],\n",
              "       [ 6.8 ,  0.65,  0.02, ...,  3.35,  0.62, 10.4 ],\n",
              "       [ 8.  ,  0.43,  0.36, ...,  3.34,  0.46,  9.4 ]])"
            ]
          },
          "metadata": {
            "tags": []
          },
          "execution_count": 167
        }
      ]
    },
    {
      "cell_type": "code",
      "metadata": {
        "id": "2YOD546_RuKQ",
        "colab_type": "code",
        "colab": {
          "base_uri": "https://localhost:8080/",
          "height": 221
        },
        "outputId": "437a3f1d-0dc0-4c59-a157-e032e23c7421"
      },
      "source": [
        "z_test"
      ],
      "execution_count": 168,
      "outputs": [
        {
          "output_type": "execute_result",
          "data": {
            "text/plain": [
              "1109    6\n",
              "1032    5\n",
              "1002    7\n",
              "487     6\n",
              "979     5\n",
              "       ..\n",
              "801     5\n",
              "61      5\n",
              "431     5\n",
              "1210    6\n",
              "713     5\n",
              "Name: quality, Length: 480, dtype: int64"
            ]
          },
          "metadata": {
            "tags": []
          },
          "execution_count": 168
        }
      ]
    },
    {
      "cell_type": "code",
      "metadata": {
        "id": "p0Ly8ZRMRwWe",
        "colab_type": "code",
        "colab": {
          "base_uri": "https://localhost:8080/",
          "height": 1000
        },
        "outputId": "339e983e-9bec-468e-9ad3-6c7ca0bdc0f9"
      },
      "source": [
        "\n",
        "model = Sequential()\n",
        "model.add(Dense(32, input_dim = 11, activation = 'relu' ))\n",
        "model.add(Dense(11, activation = 'softmax'))\n",
        "\n",
        "model.compile(optimizer = 'adam', loss = 'sparse_categorical_crossentropy', metrics = ['accuracy'])\n",
        "\n",
        "history2 = model.fit(w_train, z_train, epochs=100, batch_size = 512)"
      ],
      "execution_count": 169,
      "outputs": [
        {
          "output_type": "stream",
          "text": [
            "Epoch 1/100\n",
            "1119/1119 [==============================] - 0s 74us/step - loss: 6.1787 - accuracy: 0.3861\n",
            "Epoch 2/100\n",
            "1119/1119 [==============================] - 0s 7us/step - loss: 5.4910 - accuracy: 0.3807\n",
            "Epoch 3/100\n",
            "1119/1119 [==============================] - 0s 7us/step - loss: 4.8697 - accuracy: 0.3807\n",
            "Epoch 4/100\n",
            "1119/1119 [==============================] - 0s 8us/step - loss: 4.3488 - accuracy: 0.3825\n",
            "Epoch 5/100\n",
            "1119/1119 [==============================] - 0s 8us/step - loss: 3.8904 - accuracy: 0.3825\n",
            "Epoch 6/100\n",
            "1119/1119 [==============================] - 0s 8us/step - loss: 3.5202 - accuracy: 0.3753\n",
            "Epoch 7/100\n",
            "1119/1119 [==============================] - 0s 8us/step - loss: 3.2401 - accuracy: 0.3870\n",
            "Epoch 8/100\n",
            "1119/1119 [==============================] - 0s 8us/step - loss: 3.0567 - accuracy: 0.4111\n",
            "Epoch 9/100\n",
            "1119/1119 [==============================] - 0s 8us/step - loss: 2.9496 - accuracy: 0.4173\n",
            "Epoch 10/100\n",
            "1119/1119 [==============================] - 0s 9us/step - loss: 2.8541 - accuracy: 0.4254\n",
            "Epoch 11/100\n",
            "1119/1119 [==============================] - 0s 8us/step - loss: 2.7456 - accuracy: 0.4290\n",
            "Epoch 12/100\n",
            "1119/1119 [==============================] - 0s 8us/step - loss: 2.6219 - accuracy: 0.4459\n",
            "Epoch 13/100\n",
            "1119/1119 [==============================] - 0s 10us/step - loss: 2.4853 - accuracy: 0.4504\n",
            "Epoch 14/100\n",
            "1119/1119 [==============================] - 0s 7us/step - loss: 2.3521 - accuracy: 0.4576\n",
            "Epoch 15/100\n",
            "1119/1119 [==============================] - 0s 8us/step - loss: 2.2309 - accuracy: 0.4459\n",
            "Epoch 16/100\n",
            "1119/1119 [==============================] - 0s 7us/step - loss: 2.1195 - accuracy: 0.4468\n",
            "Epoch 17/100\n",
            "1119/1119 [==============================] - 0s 8us/step - loss: 2.0077 - accuracy: 0.4415\n",
            "Epoch 18/100\n",
            "1119/1119 [==============================] - 0s 8us/step - loss: 1.8893 - accuracy: 0.4540\n",
            "Epoch 19/100\n",
            "1119/1119 [==============================] - 0s 7us/step - loss: 1.7686 - accuracy: 0.4638\n",
            "Epoch 20/100\n",
            "1119/1119 [==============================] - 0s 8us/step - loss: 1.6622 - accuracy: 0.4602\n",
            "Epoch 21/100\n",
            "1119/1119 [==============================] - 0s 9us/step - loss: 1.5654 - accuracy: 0.4576\n",
            "Epoch 22/100\n",
            "1119/1119 [==============================] - 0s 10us/step - loss: 1.4961 - accuracy: 0.4656\n",
            "Epoch 23/100\n",
            "1119/1119 [==============================] - 0s 7us/step - loss: 1.4429 - accuracy: 0.4665\n",
            "Epoch 24/100\n",
            "1119/1119 [==============================] - 0s 9us/step - loss: 1.4164 - accuracy: 0.4531\n",
            "Epoch 25/100\n",
            "1119/1119 [==============================] - 0s 7us/step - loss: 1.4009 - accuracy: 0.4450\n",
            "Epoch 26/100\n",
            "1119/1119 [==============================] - 0s 7us/step - loss: 1.3862 - accuracy: 0.4477\n",
            "Epoch 27/100\n",
            "1119/1119 [==============================] - 0s 8us/step - loss: 1.3704 - accuracy: 0.4576\n",
            "Epoch 28/100\n",
            "1119/1119 [==============================] - 0s 8us/step - loss: 1.3510 - accuracy: 0.4549\n",
            "Epoch 29/100\n",
            "1119/1119 [==============================] - 0s 12us/step - loss: 1.3333 - accuracy: 0.4611\n",
            "Epoch 30/100\n",
            "1119/1119 [==============================] - 0s 10us/step - loss: 1.3195 - accuracy: 0.4620\n",
            "Epoch 31/100\n",
            "1119/1119 [==============================] - 0s 11us/step - loss: 1.3099 - accuracy: 0.4647\n",
            "Epoch 32/100\n",
            "1119/1119 [==============================] - 0s 9us/step - loss: 1.3020 - accuracy: 0.4727\n",
            "Epoch 33/100\n",
            "1119/1119 [==============================] - 0s 8us/step - loss: 1.2958 - accuracy: 0.4844\n",
            "Epoch 34/100\n",
            "1119/1119 [==============================] - 0s 8us/step - loss: 1.2892 - accuracy: 0.4879\n",
            "Epoch 35/100\n",
            "1119/1119 [==============================] - 0s 8us/step - loss: 1.2773 - accuracy: 0.4844\n",
            "Epoch 36/100\n",
            "1119/1119 [==============================] - 0s 8us/step - loss: 1.2689 - accuracy: 0.4736\n",
            "Epoch 37/100\n",
            "1119/1119 [==============================] - 0s 8us/step - loss: 1.2639 - accuracy: 0.4638\n",
            "Epoch 38/100\n",
            "1119/1119 [==============================] - 0s 10us/step - loss: 1.2585 - accuracy: 0.4620\n",
            "Epoch 39/100\n",
            "1119/1119 [==============================] - 0s 7us/step - loss: 1.2519 - accuracy: 0.4576\n",
            "Epoch 40/100\n",
            "1119/1119 [==============================] - 0s 12us/step - loss: 1.2498 - accuracy: 0.4611\n",
            "Epoch 41/100\n",
            "1119/1119 [==============================] - 0s 8us/step - loss: 1.2462 - accuracy: 0.4692\n",
            "Epoch 42/100\n",
            "1119/1119 [==============================] - 0s 7us/step - loss: 1.2370 - accuracy: 0.4692\n",
            "Epoch 43/100\n",
            "1119/1119 [==============================] - 0s 9us/step - loss: 1.2325 - accuracy: 0.4692\n",
            "Epoch 44/100\n",
            "1119/1119 [==============================] - 0s 8us/step - loss: 1.2291 - accuracy: 0.4790\n",
            "Epoch 45/100\n",
            "1119/1119 [==============================] - 0s 8us/step - loss: 1.2221 - accuracy: 0.4808\n",
            "Epoch 46/100\n",
            "1119/1119 [==============================] - 0s 8us/step - loss: 1.2182 - accuracy: 0.4879\n",
            "Epoch 47/100\n",
            "1119/1119 [==============================] - 0s 9us/step - loss: 1.2157 - accuracy: 0.4951\n",
            "Epoch 48/100\n",
            "1119/1119 [==============================] - 0s 9us/step - loss: 1.2103 - accuracy: 0.4933\n",
            "Epoch 49/100\n",
            "1119/1119 [==============================] - 0s 8us/step - loss: 1.2046 - accuracy: 0.4853\n",
            "Epoch 50/100\n",
            "1119/1119 [==============================] - 0s 7us/step - loss: 1.2028 - accuracy: 0.4835\n",
            "Epoch 51/100\n",
            "1119/1119 [==============================] - 0s 9us/step - loss: 1.1992 - accuracy: 0.4835\n",
            "Epoch 52/100\n",
            "1119/1119 [==============================] - 0s 10us/step - loss: 1.1947 - accuracy: 0.4763\n",
            "Epoch 53/100\n",
            "1119/1119 [==============================] - 0s 9us/step - loss: 1.1931 - accuracy: 0.4870\n",
            "Epoch 54/100\n",
            "1119/1119 [==============================] - 0s 10us/step - loss: 1.1896 - accuracy: 0.4942\n",
            "Epoch 55/100\n",
            "1119/1119 [==============================] - 0s 8us/step - loss: 1.1847 - accuracy: 0.4897\n",
            "Epoch 56/100\n",
            "1119/1119 [==============================] - 0s 10us/step - loss: 1.1824 - accuracy: 0.4924\n",
            "Epoch 57/100\n",
            "1119/1119 [==============================] - 0s 7us/step - loss: 1.1801 - accuracy: 0.4942\n",
            "Epoch 58/100\n",
            "1119/1119 [==============================] - 0s 9us/step - loss: 1.1768 - accuracy: 0.4951\n",
            "Epoch 59/100\n",
            "1119/1119 [==============================] - 0s 7us/step - loss: 1.1747 - accuracy: 0.5076\n",
            "Epoch 60/100\n",
            "1119/1119 [==============================] - 0s 9us/step - loss: 1.1722 - accuracy: 0.5085\n",
            "Epoch 61/100\n",
            "1119/1119 [==============================] - 0s 9us/step - loss: 1.1695 - accuracy: 0.5022\n",
            "Epoch 62/100\n",
            "1119/1119 [==============================] - 0s 7us/step - loss: 1.1682 - accuracy: 0.5031\n",
            "Epoch 63/100\n",
            "1119/1119 [==============================] - 0s 9us/step - loss: 1.1662 - accuracy: 0.5013\n",
            "Epoch 64/100\n",
            "1119/1119 [==============================] - 0s 8us/step - loss: 1.1647 - accuracy: 0.5004\n",
            "Epoch 65/100\n",
            "1119/1119 [==============================] - 0s 10us/step - loss: 1.1633 - accuracy: 0.5076\n",
            "Epoch 66/100\n",
            "1119/1119 [==============================] - 0s 8us/step - loss: 1.1617 - accuracy: 0.5103\n",
            "Epoch 67/100\n",
            "1119/1119 [==============================] - 0s 9us/step - loss: 1.1611 - accuracy: 0.5183\n",
            "Epoch 68/100\n",
            "1119/1119 [==============================] - 0s 8us/step - loss: 1.1590 - accuracy: 0.5174\n",
            "Epoch 69/100\n",
            "1119/1119 [==============================] - 0s 8us/step - loss: 1.1585 - accuracy: 0.5156\n",
            "Epoch 70/100\n",
            "1119/1119 [==============================] - 0s 9us/step - loss: 1.1577 - accuracy: 0.5174\n",
            "Epoch 71/100\n",
            "1119/1119 [==============================] - 0s 8us/step - loss: 1.1557 - accuracy: 0.5165\n",
            "Epoch 72/100\n",
            "1119/1119 [==============================] - 0s 7us/step - loss: 1.1545 - accuracy: 0.5165\n",
            "Epoch 73/100\n",
            "1119/1119 [==============================] - 0s 7us/step - loss: 1.1529 - accuracy: 0.5192\n",
            "Epoch 74/100\n",
            "1119/1119 [==============================] - 0s 9us/step - loss: 1.1519 - accuracy: 0.5201\n",
            "Epoch 75/100\n",
            "1119/1119 [==============================] - 0s 8us/step - loss: 1.1507 - accuracy: 0.5174\n",
            "Epoch 76/100\n",
            "1119/1119 [==============================] - 0s 11us/step - loss: 1.1523 - accuracy: 0.5246\n",
            "Epoch 77/100\n",
            "1119/1119 [==============================] - 0s 8us/step - loss: 1.1500 - accuracy: 0.5219\n",
            "Epoch 78/100\n",
            "1119/1119 [==============================] - 0s 7us/step - loss: 1.1470 - accuracy: 0.5192\n",
            "Epoch 79/100\n",
            "1119/1119 [==============================] - 0s 7us/step - loss: 1.1491 - accuracy: 0.5174\n",
            "Epoch 80/100\n",
            "1119/1119 [==============================] - 0s 7us/step - loss: 1.1476 - accuracy: 0.5246\n",
            "Epoch 81/100\n",
            "1119/1119 [==============================] - 0s 7us/step - loss: 1.1438 - accuracy: 0.5290\n",
            "Epoch 82/100\n",
            "1119/1119 [==============================] - 0s 8us/step - loss: 1.1468 - accuracy: 0.5237\n",
            "Epoch 83/100\n",
            "1119/1119 [==============================] - 0s 12us/step - loss: 1.1492 - accuracy: 0.5219\n",
            "Epoch 84/100\n",
            "1119/1119 [==============================] - 0s 10us/step - loss: 1.1449 - accuracy: 0.5255\n",
            "Epoch 85/100\n",
            "1119/1119 [==============================] - 0s 9us/step - loss: 1.1421 - accuracy: 0.5246\n",
            "Epoch 86/100\n",
            "1119/1119 [==============================] - 0s 7us/step - loss: 1.1418 - accuracy: 0.5246\n",
            "Epoch 87/100\n",
            "1119/1119 [==============================] - 0s 7us/step - loss: 1.1404 - accuracy: 0.5246\n",
            "Epoch 88/100\n",
            "1119/1119 [==============================] - 0s 7us/step - loss: 1.1382 - accuracy: 0.5246\n",
            "Epoch 89/100\n",
            "1119/1119 [==============================] - 0s 8us/step - loss: 1.1375 - accuracy: 0.5273\n",
            "Epoch 90/100\n",
            "1119/1119 [==============================] - 0s 7us/step - loss: 1.1368 - accuracy: 0.5335\n",
            "Epoch 91/100\n",
            "1119/1119 [==============================] - 0s 8us/step - loss: 1.1361 - accuracy: 0.5282\n",
            "Epoch 92/100\n",
            "1119/1119 [==============================] - 0s 11us/step - loss: 1.1360 - accuracy: 0.5308\n",
            "Epoch 93/100\n",
            "1119/1119 [==============================] - 0s 8us/step - loss: 1.1348 - accuracy: 0.5299\n",
            "Epoch 94/100\n",
            "1119/1119 [==============================] - 0s 8us/step - loss: 1.1343 - accuracy: 0.5299\n",
            "Epoch 95/100\n",
            "1119/1119 [==============================] - 0s 7us/step - loss: 1.1333 - accuracy: 0.5326\n",
            "Epoch 96/100\n",
            "1119/1119 [==============================] - 0s 7us/step - loss: 1.1329 - accuracy: 0.5282\n",
            "Epoch 97/100\n",
            "1119/1119 [==============================] - 0s 7us/step - loss: 1.1333 - accuracy: 0.5299\n",
            "Epoch 98/100\n",
            "1119/1119 [==============================] - 0s 8us/step - loss: 1.1324 - accuracy: 0.5344\n",
            "Epoch 99/100\n",
            "1119/1119 [==============================] - 0s 7us/step - loss: 1.1304 - accuracy: 0.5371\n",
            "Epoch 100/100\n",
            "1119/1119 [==============================] - 0s 9us/step - loss: 1.1303 - accuracy: 0.5273\n"
          ],
          "name": "stdout"
        }
      ]
    },
    {
      "cell_type": "code",
      "metadata": {
        "id": "8VqTHz3TRzu0",
        "colab_type": "code",
        "colab": {
          "base_uri": "https://localhost:8080/",
          "height": 1000
        },
        "outputId": "0a8069e9-68cd-4f37-9128-411cc7331c42"
      },
      "source": [
        "history2.history"
      ],
      "execution_count": 170,
      "outputs": [
        {
          "output_type": "execute_result",
          "data": {
            "text/plain": [
              "{'accuracy': [0.386059,\n",
              "  0.38069704,\n",
              "  0.38069704,\n",
              "  0.38248435,\n",
              "  0.38248435,\n",
              "  0.37533513,\n",
              "  0.38695264,\n",
              "  0.4110813,\n",
              "  0.4173369,\n",
              "  0.4253798,\n",
              "  0.42895442,\n",
              "  0.44593388,\n",
              "  0.45040214,\n",
              "  0.4575514,\n",
              "  0.44593388,\n",
              "  0.44682753,\n",
              "  0.4414656,\n",
              "  0.45397675,\n",
              "  0.46380696,\n",
              "  0.46023235,\n",
              "  0.4575514,\n",
              "  0.4655943,\n",
              "  0.46648794,\n",
              "  0.4530831,\n",
              "  0.44504023,\n",
              "  0.44772118,\n",
              "  0.4575514,\n",
              "  0.45487043,\n",
              "  0.461126,\n",
              "  0.46201965,\n",
              "  0.46470064,\n",
              "  0.4727435,\n",
              "  0.48436102,\n",
              "  0.48793566,\n",
              "  0.48436102,\n",
              "  0.47363716,\n",
              "  0.46380696,\n",
              "  0.46201965,\n",
              "  0.4575514,\n",
              "  0.461126,\n",
              "  0.4691689,\n",
              "  0.4691689,\n",
              "  0.4691689,\n",
              "  0.4789991,\n",
              "  0.4807864,\n",
              "  0.48793566,\n",
              "  0.4950849,\n",
              "  0.49329758,\n",
              "  0.4852547,\n",
              "  0.48346737,\n",
              "  0.48346737,\n",
              "  0.47631815,\n",
              "  0.487042,\n",
              "  0.49419123,\n",
              "  0.48972297,\n",
              "  0.49240392,\n",
              "  0.49419123,\n",
              "  0.4950849,\n",
              "  0.5075961,\n",
              "  0.5084897,\n",
              "  0.50223416,\n",
              "  0.5031278,\n",
              "  0.5013405,\n",
              "  0.50044686,\n",
              "  0.5075961,\n",
              "  0.51027703,\n",
              "  0.5183199,\n",
              "  0.51742625,\n",
              "  0.51563895,\n",
              "  0.51742625,\n",
              "  0.5165326,\n",
              "  0.5165326,\n",
              "  0.51921356,\n",
              "  0.5201072,\n",
              "  0.51742625,\n",
              "  0.52457553,\n",
              "  0.5218946,\n",
              "  0.51921356,\n",
              "  0.51742625,\n",
              "  0.52457553,\n",
              "  0.5290438,\n",
              "  0.5236819,\n",
              "  0.5218946,\n",
              "  0.5254692,\n",
              "  0.52457553,\n",
              "  0.52457553,\n",
              "  0.52457553,\n",
              "  0.52457553,\n",
              "  0.5272565,\n",
              "  0.53351206,\n",
              "  0.52815014,\n",
              "  0.5308311,\n",
              "  0.52993745,\n",
              "  0.52993745,\n",
              "  0.5326184,\n",
              "  0.52815014,\n",
              "  0.52993745,\n",
              "  0.5344057,\n",
              "  0.53708667,\n",
              "  0.5272565],\n",
              " 'loss': [6.178676264322262,\n",
              "  5.490995744597816,\n",
              "  4.869744914892638,\n",
              "  4.348781164678961,\n",
              "  3.890367878026681,\n",
              "  3.5202211464378212,\n",
              "  3.2401075586876344,\n",
              "  3.056740282687681,\n",
              "  2.949603046872341,\n",
              "  2.854120930781633,\n",
              "  2.7455754358924,\n",
              "  2.621931655796859,\n",
              "  2.4852571915685333,\n",
              "  2.3520811982619327,\n",
              "  2.2308843883688265,\n",
              "  2.119456539205188,\n",
              "  2.0076942067789756,\n",
              "  1.8893104995117325,\n",
              "  1.7685966255198216,\n",
              "  1.662170365519349,\n",
              "  1.5654300996722441,\n",
              "  1.4960718360513954,\n",
              "  1.442929376758988,\n",
              "  1.416415643010212,\n",
              "  1.4009004272021173,\n",
              "  1.3861831957149762,\n",
              "  1.3704495633468765,\n",
              "  1.3509594606863162,\n",
              "  1.3333270925832073,\n",
              "  1.3194512011644774,\n",
              "  1.3098606497608625,\n",
              "  1.3019587674025876,\n",
              "  1.29575136146767,\n",
              "  1.2892178674166068,\n",
              "  1.277255673191183,\n",
              "  1.268899820551902,\n",
              "  1.2639319779512816,\n",
              "  1.2584694781614478,\n",
              "  1.251882861723742,\n",
              "  1.2498029164696933,\n",
              "  1.2461558106331232,\n",
              "  1.2369767443424255,\n",
              "  1.2325388497811967,\n",
              "  1.2290987769230015,\n",
              "  1.2220736597136155,\n",
              "  1.2182463930588519,\n",
              "  1.2157122211013125,\n",
              "  1.2102837481596729,\n",
              "  1.2046332281545618,\n",
              "  1.2027927868274624,\n",
              "  1.1991947238417584,\n",
              "  1.1946807884552098,\n",
              "  1.1931239518872108,\n",
              "  1.189649476762112,\n",
              "  1.1846801805325764,\n",
              "  1.1824348012286707,\n",
              "  1.1801291540118601,\n",
              "  1.1768495811747055,\n",
              "  1.1746602369484036,\n",
              "  1.1722113821951803,\n",
              "  1.1694668169209104,\n",
              "  1.1681656224904473,\n",
              "  1.166161970755583,\n",
              "  1.1646649254763948,\n",
              "  1.163320263866019,\n",
              "  1.1617013995832797,\n",
              "  1.1611333302454399,\n",
              "  1.1589806429289409,\n",
              "  1.158455827174387,\n",
              "  1.1576658649248561,\n",
              "  1.1557186405183588,\n",
              "  1.154515841478104,\n",
              "  1.1528835947541278,\n",
              "  1.151900215165971,\n",
              "  1.150712413272227,\n",
              "  1.1523304767540463,\n",
              "  1.1499675922461978,\n",
              "  1.1470298631794225,\n",
              "  1.1490514491475832,\n",
              "  1.1475588825795138,\n",
              "  1.1438321588932137,\n",
              "  1.1467684386988855,\n",
              "  1.149207392049965,\n",
              "  1.144869553286439,\n",
              "  1.142051973014777,\n",
              "  1.1417887116032481,\n",
              "  1.1403692984176172,\n",
              "  1.13824577881248,\n",
              "  1.1374736686600864,\n",
              "  1.1367689387088806,\n",
              "  1.1360578522072826,\n",
              "  1.1359603673459377,\n",
              "  1.1348484006707853,\n",
              "  1.1342673188772874,\n",
              "  1.1333004983010517,\n",
              "  1.1329096669699061,\n",
              "  1.1332859680842244,\n",
              "  1.132407461883129,\n",
              "  1.13039762479477,\n",
              "  1.1303243935374514]}"
            ]
          },
          "metadata": {
            "tags": []
          },
          "execution_count": 170
        }
      ]
    },
    {
      "cell_type": "code",
      "metadata": {
        "id": "SuZuO6PxR8pt",
        "colab_type": "code",
        "colab": {
          "base_uri": "https://localhost:8080/",
          "height": 279
        },
        "outputId": "8d5b18c9-db0e-4669-ac57-65a7f3e7e161"
      },
      "source": [
        "\n",
        "z_loss = history.history['loss']\n",
        "z_acc = history.history['accuracy']\n",
        "\n",
        "\n",
        "w_len = numpy.arange(len(z_acc))\n",
        "\n",
        "\n",
        "plt.plot(w_len, z_loss, '-', c='red', markersize=3, label = 'loss')\n",
        "\n",
        "\n",
        "plt.legend(loc='best')   \n",
        "plt.grid()   # 격자 \n",
        "plt.xlabel('epoch')\n",
        "plt.ylabel('loss')\n",
        "plt.show()\n"
      ],
      "execution_count": 171,
      "outputs": [
        {
          "output_type": "display_data",
          "data": {
            "image/png": "[encoded data removed]",
            "text/plain": [
              "<Figure size 432x288 with 1 Axes>"
            ]
          },
          "metadata": {
            "tags": [],
            "needs_background": "light"
          }
        }
      ]
    },
    {
      "cell_type": "code",
      "metadata": {
        "id": "6YHCN9QNSc3W",
        "colab_type": "code",
        "colab": {
          "base_uri": "https://localhost:8080/",
          "height": 279
        },
        "outputId": "a30e2934-80f3-440c-c6fb-0661d01540f4"
      },
      "source": [
        "\n",
        "\n",
        "w_len = numpy.arange(len(z_acc))\n",
        "\n",
        "plt.plot(w_len, z_acc, 'o', c='blue', markersize=3, label = 'accuarcy')\n",
        "\n",
        "plt.legend(loc='best')   \n",
        "plt.grid()   # 격자 \n",
        "plt.xlabel('epoch')\n",
        "plt.ylabel('accuracy')\n",
        "\n",
        "plt.show()\n",
        "\n"
      ],
      "execution_count": 172,
      "outputs": [
        {
          "output_type": "display_data",
          "data": {
            "image/png": "[encoded data removed]",
            "text/plain": [
              "<Figure size 432x288 with 1 Axes>"
            ]
          },
          "metadata": {
            "tags": [],
            "needs_background": "light"
          }
        }
      ]
    },
    {
      "cell_type": "code",
      "metadata": {
        "id": "tBK6u0KmS1wu",
        "colab_type": "code",
        "colab": {
          "base_uri": "https://localhost:8080/",
          "height": 34
        },
        "outputId": "ede2ca35-a185-4fd1-cc84-ef9f1723089f"
      },
      "source": [
        "test_loss2, test_acc2 = model.evaluate(w_test, z_test, verbose=2)\n",
        "print(test_acc2)"
      ],
      "execution_count": 173,
      "outputs": [
        {
          "output_type": "stream",
          "text": [
            "0.5562499761581421\n"
          ],
          "name": "stdout"
        }
      ]
    },
    {
      "cell_type": "code",
      "metadata": {
        "id": "nj0OaOpcS-V8",
        "colab_type": "code",
        "colab": {}
      },
      "source": [
        ""
      ],
      "execution_count": 0,
      "outputs": []
    }
  ]
}